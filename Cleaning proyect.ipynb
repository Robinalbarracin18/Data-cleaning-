{
 "cells": [
  {
   "cell_type": "markdown",
   "id": "73ab2031-792a-479a-a848-8d6e20fb5917",
   "metadata": {},
   "source": [
    "---\n",
    "# **Retail Sales Data Cleaning and Preparation**\n",
    "---"
   ]
  },
  {
   "cell_type": "markdown",
   "id": "12486507-82b0-4a49-aa88-bd31426ba64b",
   "metadata": {},
   "source": [
    "**Brief Description of the Project:**\n",
    "\n",
    "This project focuses on cleaning and preparing a retail sales dataset. The main objective is to ensure data quality by addressing missing values, duplicates, and outliers, as well as standardizing data types. The cleaned dataset is ready for future analysis and modeling tasks.\n",
    "\n",
    "**Objectives:**\n",
    "- Identify and handle data quality issues, such as missing values, duplicates, and outliers.\n",
    "- Transform and standardize DataFrame columns for efficient analysis.\n",
    "- Export the cleaned DataFrame for use in analytical and modeling tasks"
   ]
  },
  {
   "cell_type": "markdown",
   "id": "08f27db0-b68d-4c43-b623-8a9fbc670888",
   "metadata": {},
   "source": [
    "---\n",
    "## **1. Importing Libraries and Loading Datasets**\n",
    "\n",
    "---"
   ]
  },
  {
   "cell_type": "markdown",
   "id": "3f93bc48-2a8d-4f5f-b6fe-e64c4a2132c2",
   "metadata": {},
   "source": [
    " **Description**  \n",
    "In this step, we set up the environment by importing necessary libraries and loading the datasets into Pandas DataFrames for cleaning and preparation. The initial rows of the dataset are displayed to confirm successful loading and identify the structure of the data.\n",
    "\n",
    "---\n",
    "    "
   ]
  },
  {
   "cell_type": "code",
   "execution_count": 26,
   "id": "347ccaad-b749-4140-ac23-62f1207df546",
   "metadata": {},
   "outputs": [
    {
     "name": "stdout",
     "output_type": "stream",
     "text": [
      "Features DataFrame (First 5 Rows):\n",
      "   Store        Date  Temperature  Fuel_Price  MarkDown1  MarkDown2  \\\n",
      "0      1  05/02/2010        42.31       2.572        NaN        NaN   \n",
      "1      1  12/02/2010        38.51       2.548        NaN        NaN   \n",
      "2      1  19/02/2010        39.93       2.514        NaN        NaN   \n",
      "3      1  26/02/2010        46.63       2.561        NaN        NaN   \n",
      "4      1  05/03/2010        46.50       2.625        NaN        NaN   \n",
      "\n",
      "   MarkDown3  MarkDown4  MarkDown5         CPI  Unemployment  IsHoliday  \n",
      "0        NaN        NaN        NaN  211.096358         8.106      False  \n",
      "1        NaN        NaN        NaN  211.242170         8.106       True  \n",
      "2        NaN        NaN        NaN  211.289143         8.106      False  \n",
      "3        NaN        NaN        NaN  211.319643         8.106      False  \n",
      "4        NaN        NaN        NaN  211.350143         8.106      False   \n",
      "\n"
     ]
    }
   ],
   "source": [
    "# Import necessary libraries\n",
    "import pandas as pd  # Data manipulation\n",
    "import matplotlib.pyplot as plt  # Visualization\n",
    "\n",
    "# Define the base directory where datasets are stored\n",
    "base_path = r\"C:\\\\Users\\\\robin\\\\Desktop\\\\para limpiar\"\n",
    "\n",
    "# Load dataset into a DataFrame\n",
    "features_df = pd.read_csv(base_path + r\"\\\\Features data set.csv\")\n",
    "\n",
    "# Display the first rows of the 'features' DataFrame\n",
    "print(\"Features DataFrame (First 5 Rows):\")\n",
    "print(features_df.head(), \"\\n\")\n"
   ]
  },
  {
   "cell_type": "markdown",
   "id": "614ef853-a1ed-494f-b1f9-7e4b163c5688",
   "metadata": {},
   "source": [
    "---\n",
    " **Key Insights**  \r\n",
    "- The dataset has been successfully loaded.  \r\n",
    "- The first rows show a mix of numerical and categorical columns.  \r\n",
    "- The `MarkDown` columns contain missing values (NaN), which will require further handling during the cleaning prsoce\n",
    "--.  \r\n"
   ]
  },
  {
   "cell_type": "markdown",
   "id": "118df092-ad64-46f3-a8fe-763d87fab33f",
   "metadata": {},
   "source": [
    "---\n",
    "## **2. Creating Backup Copies of the Original DataFrames**\n",
    "---"
   ]
  },
  {
   "cell_type": "markdown",
   "id": "65012b9e-19be-44bb-ac5e-3aa2926f31c4",
   "metadata": {},
   "source": [
    "**Description**  \n",
    "Before making any changes to the datasets, it is essential to create backup copies of the original DataFrames. This ensures that the original data remains intact in case of errors during the cleaning process.\n",
    "\n",
    "---\n"
   ]
  },
  {
   "cell_type": "code",
   "execution_count": 31,
   "id": "6d84f5d0-a929-48de-b1ed-08074a756a88",
   "metadata": {},
   "outputs": [
    {
     "name": "stdout",
     "output_type": "stream",
     "text": [
      "Backup of Features DataFrame (First 5 Rows):\n",
      "   Store        Date  Temperature  Fuel_Price  MarkDown1  MarkDown2  \\\n",
      "0      1  05/02/2010        42.31       2.572        NaN        NaN   \n",
      "1      1  12/02/2010        38.51       2.548        NaN        NaN   \n",
      "2      1  19/02/2010        39.93       2.514        NaN        NaN   \n",
      "3      1  26/02/2010        46.63       2.561        NaN        NaN   \n",
      "4      1  05/03/2010        46.50       2.625        NaN        NaN   \n",
      "\n",
      "   MarkDown3  MarkDown4  MarkDown5         CPI  Unemployment  IsHoliday  \n",
      "0        NaN        NaN        NaN  211.096358         8.106      False  \n",
      "1        NaN        NaN        NaN  211.242170         8.106       True  \n",
      "2        NaN        NaN        NaN  211.289143         8.106      False  \n",
      "3        NaN        NaN        NaN  211.319643         8.106      False  \n",
      "4        NaN        NaN        NaN  211.350143         8.106      False   \n",
      "\n"
     ]
    }
   ],
   "source": [
    "# Create backup copy of the original DataFrame\n",
    "features_df_backup = features_df.copy()\n",
    "\n",
    "# Verify that the copies have been created correctly\n",
    "print(\"Backup of Features DataFrame (First 5 Rows):\")\n",
    "print(features_df_backup.head(), \"\\n\")  # Displays the first rows of features_df backup\n"
   ]
  },
  {
   "cell_type": "markdown",
   "id": "5fe00581-f8e6-4fa7-9d60-c684530a6a62",
   "metadata": {},
   "source": [
    "---\n",
    "\n",
    "**Key Insights**  \n",
    "- Backup copies of the original DataFrames have been successfully created.  \n",
    "- The `head()` method confirms that the backups contain the same data as the original DataFrame.  \n",
    "- These backups will act as a safeguard and allow us to revert to the original data if needed.\n",
    "\n",
    "\n"
   ]
  },
  {
   "cell_type": "markdown",
   "id": "37f73f88-381e-4e6e-8960-1e14992ecf03",
   "metadata": {},
   "source": [
    "---\n",
    "## **3. Checking for Missing Values, Duplicates, and Data Types**\n",
    "---"
   ]
  },
  {
   "cell_type": "markdown",
   "id": "becb1e68-591c-499c-a929-28b8f3a64904",
   "metadata": {},
   "source": [
    "\n",
    "  **Description**  \n",
    "To ensure data quality, we first identify missing values, duplicate rows, and review the data types of each column in the dataset. These issues can affect the integrity of the analysis and need to be addressed.\n",
    "\n",
    "---\n"
   ]
  },
  {
   "cell_type": "code",
   "execution_count": 36,
   "id": "23b39190-6b66-4122-ab42-3221054dabea",
   "metadata": {},
   "outputs": [
    {
     "name": "stdout",
     "output_type": "stream",
     "text": [
      "Missing Values per Column:\n",
      "Store              0\n",
      "Date               0\n",
      "Temperature        0\n",
      "Fuel_Price         0\n",
      "MarkDown1       4158\n",
      "MarkDown2       5269\n",
      "MarkDown3       4577\n",
      "MarkDown4       4726\n",
      "MarkDown5       4140\n",
      "CPI              585\n",
      "Unemployment     585\n",
      "IsHoliday          0\n",
      "dtype: int64\n",
      "\n",
      "Number of Duplicate Rows:\n",
      "0\n",
      "\n",
      "Data Types of Features DataFrame:\n",
      "Store             int64\n",
      "Date             object\n",
      "Temperature     float64\n",
      "Fuel_Price      float64\n",
      "MarkDown1       float64\n",
      "MarkDown2       float64\n",
      "MarkDown3       float64\n",
      "MarkDown4       float64\n",
      "MarkDown5       float64\n",
      "CPI             float64\n",
      "Unemployment    float64\n",
      "IsHoliday          bool\n",
      "dtype: object\n"
     ]
    }
   ],
   "source": [
    "# Check for missing values in each column\n",
    "print(\"Missing Values per Column:\")\n",
    "print(features_df.isnull().sum())\n",
    "\n",
    "# Key observations on missing values:\n",
    "# - MarkDown columns (1-5) have a significant number of missing values, reducing their usefulness.\n",
    "# - CPI and Unemployment columns also have missing values that require treatment to avoid bias.\n",
    "\n",
    "# Check for duplicate rows in the DataFrame\n",
    "print(\"\\nNumber of Duplicate Rows:\")\n",
    "print(features_df.duplicated().sum())  # Displays the count of duplicate rows\n",
    "\n",
    "# Observations:\n",
    "# The DataFrame has no duplicate rows, ensuring each row represents unique data.\n",
    "\n",
    "# Review data types of the columns\n",
    "print(\"\\nData Types of Features DataFrame:\")\n",
    "print(features_df.dtypes)\n"
   ]
  },
  {
   "cell_type": "markdown",
   "id": "4c444f00-b9d0-4ca4-8059-964ba1ece9b0",
   "metadata": {},
   "source": [
    "---\n",
    "\n",
    "  **Key Insights**  \r\n",
    "- **Missing Values**:  \r\n",
    "  - Columns like `MarkDown1-5`, `CPI`, and `Unemployment` contain a significant number of missing values. This may require imputation or removal based on their relevance.  \r\n",
    "- **Duplicates**:  \r\n",
    "  - No duplicate rows were found in the dataset, ensuring data integrity.  \r\n",
    "- **Data Types**:  \r\n",
    "  - The `Date` column needs transformation to `datetime` format for proper date-based analysis.   \r\n",
    "  - Other columns such as `MarkDown`, `CPI`, and `Unemployment` are correctly stored as `float64`, and `IsHoliday` is stored as `oo\n",
    "\n",
    "  \n",
    "---\n",
    "\n"
   ]
  },
  {
   "cell_type": "markdown",
   "id": "d24e7752-de5a-4dde-a3aa-853489cc8940",
   "metadata": {},
   "source": [
    "\n",
    "## **4. Reviewing Data Types of the Dataset**\n",
    "---\n"
   ]
  },
  {
   "cell_type": "markdown",
   "id": "8e2c06af-ff73-45bd-a745-402995281476",
   "metadata": {},
   "source": [
    "  **Description**  \n",
    "To ensure the dataset is ready for analysis, we check the data types of each column. This helps identify columns that might need transformation or type correction for accurate processing.\n",
    "\n",
    "---\n"
   ]
  },
  {
   "cell_type": "code",
   "execution_count": 125,
   "id": "59cb8114-7292-420a-baac-69b5c0263d8d",
   "metadata": {},
   "outputs": [
    {
     "name": "stdout",
     "output_type": "stream",
     "text": [
      "Data Types of Features DataFrame:\n",
      "Store                    int64\n",
      "Date            datetime64[ns]\n",
      "Temperature            float64\n",
      "Fuel_Price             float64\n",
      "MarkDown1              float64\n",
      "MarkDown2              float64\n",
      "MarkDown3              float64\n",
      "MarkDown4              float64\n",
      "MarkDown5              float64\n",
      "CPI                    float64\n",
      "Unemployment           float64\n",
      "IsHoliday                 bool\n",
      "dtype: object\n"
     ]
    }
   ],
   "source": [
    "# Review data types of the 'features' DataFrame\n",
    "print(\"Data Types of Features DataFrame:\")\n",
    "print(features_df.dtypes)\n"
   ]
  },
  {
   "cell_type": "markdown",
   "id": "e9d24b41-3d28-4fd1-aae8-89f0c2a9bdce",
   "metadata": {},
   "source": [
    "---\n",
    "  **Key Insights**  \n",
    "- The `Date` column has been successfully converted to **datetime64[ns]**, allowing for date-specific operations.  \n",
    "- Numerical columns such as `MarkDown1-5`, `CPI`, and `Unemployment` are correctly identified as `float64`.  \n",
    "- The `IsHoliday` column is stored as **boolean**, which is ideal for categorical analysis.  \n",
    "\n",
    "---"
   ]
  },
  {
   "cell_type": "markdown",
   "id": "37b0da0a-e50d-4116-a097-4328f9fe8e28",
   "metadata": {},
   "source": [
    "\n",
    "## **5. Converting the 'Date' Column to Datetime Format**\n"
   ]
  },
  {
   "cell_type": "markdown",
   "id": "556980e9-109c-40c2-8bda-e72f9c105660",
   "metadata": {},
   "source": [
    "---\n",
    "  **Description**  \n",
    "To facilitate date-based analysis, the `Date` column needs to be converted from an object to a **datetime** format. This ensures that operations such as sorting, filtering, and aggregating data by date can be performed accurately.\n",
    "\n",
    "---"
   ]
  },
  {
   "cell_type": "code",
   "execution_count": 46,
   "id": "65894b34-a637-494e-b528-ead56e173e65",
   "metadata": {},
   "outputs": [
    {
     "name": "stdout",
     "output_type": "stream",
     "text": [
      "First 5 rows of the 'Date' column after conversion:\n",
      "0   2010-02-05\n",
      "1   2010-02-12\n",
      "2   2010-02-19\n",
      "3   2010-02-26\n",
      "4   2010-03-05\n",
      "Name: Date, dtype: datetime64[ns]\n"
     ]
    }
   ],
   "source": [
    "# Convert the 'Date' column to datetime format\n",
    "features_df['Date'] = pd.to_datetime(features_df['Date'], dayfirst=True)\n",
    "\n",
    "# Confirm the change by displaying the first 5 rows of the 'Date' column\n",
    "print(\"First 5 rows of the 'Date' column after conversion:\")\n",
    "print(features_df['Date'].head())\n"
   ]
  },
  {
   "cell_type": "markdown",
   "id": "3fca5ba6-e6ee-41a5-8a4b-a79044894049",
   "metadata": {},
   "source": [
    "---\n",
    "  **Key Insights**  \n",
    "- The `Date` column has been successfully converted to **datetime64[ns]**.  \n",
    "- Using `dayfirst=True` ensures the correct interpretation of the date format as DD/MM/YYYY.  \n",
    "- The transformation prepares the column for time-based operations, which are essential for further analysis.  \n",
    "\n",
    "---"
   ]
  },
  {
   "cell_type": "markdown",
   "id": "16a22967-46cb-4628-9a02-8f5b7137d6a4",
   "metadata": {},
   "source": [
    "\n",
    "## **6. Checking Percentage of NaN Values in MarkDown Columns**"
   ]
  },
  {
   "cell_type": "markdown",
   "id": "b87feea6-ed07-4f54-b80e-0852c266b7b6",
   "metadata": {},
   "source": [
    "---\n",
    "  **Description**  \n",
    "To make informed decisions about data cleaning, we analyze the proportion of missing (`NaN`) and non-missing values in the `MarkDown1-5` columns. This helps us determine whether to impute or remove these columns based on their data quality.\n",
    "\n",
    "---"
   ]
  },
  {
   "cell_type": "code",
   "execution_count": 51,
   "id": "f62fbe08-d2c4-432d-a20e-34481f31357e",
   "metadata": {},
   "outputs": [
    {
     "name": "stdout",
     "output_type": "stream",
     "text": [
      "MarkDown1:\n",
      "   NaN: 50.77%\n",
      "   Non-NaN: 49.23%\n",
      "\n",
      "MarkDown2:\n",
      "   NaN: 64.33%\n",
      "   Non-NaN: 35.67%\n",
      "\n",
      "MarkDown3:\n",
      "   NaN: 55.89%\n",
      "   Non-NaN: 44.11%\n",
      "\n",
      "MarkDown4:\n",
      "   NaN: 57.70%\n",
      "   Non-NaN: 42.30%\n",
      "\n",
      "MarkDown5:\n",
      "   NaN: 50.55%\n",
      "   Non-NaN: 49.45%\n",
      "\n"
     ]
    }
   ],
   "source": [
    "# List of MarkDown columns to analyze\n",
    "markdown_cols = ['MarkDown1', 'MarkDown2', 'MarkDown3', 'MarkDown4', 'MarkDown5']\n",
    "\n",
    "# Calculate and display the percentage of NaN and non-NaN values for each column\n",
    "for col in markdown_cols:\n",
    "    total = len(features_df[col])  # Total number of rows\n",
    "    nan_count = features_df[col].isnull().sum()  # Count of NaN values\n",
    "    non_nan_count = total - nan_count  # Count of non-NaN values\n",
    "\n",
    "    print(f\"{col}:\")\n",
    "    print(f\"   NaN: {nan_count / total * 100:.2f}%\")  # Percentage of NaN values\n",
    "    print(f\"   Non-NaN: {non_nan_count / total * 100:.2f}%\\n\")  # Percentage of non-NaN values\n"
   ]
  },
  {
   "cell_type": "markdown",
   "id": "98530d12-298c-4ea3-8d94-3d4addb09f83",
   "metadata": {},
   "source": [
    "---\n",
    "  **Key Insights**  \n",
    "- `MarkDown1`: **50.77%** of values are missing.  \n",
    "- `MarkDown2`: **64.33%** of values are missing (highest percentage).  \n",
    "- `MarkDown3`: **55.89%** of values are missing.  \n",
    "- `MarkDown4`: **57.70%** of values are missing.  \n",
    "- `MarkDown5`: **50.55%** of values are missing.  \n",
    "\n",
    "- Columns like `MarkDown2`, with more than 60% missing values, may need to be removed.  \n",
    "- Other columns with slightly lower percentages could be imputed based on their relevance to the analysis.\n",
    "---\n"
   ]
  },
  {
   "cell_type": "markdown",
   "id": "1f1c9f47-9c68-46e1-a76b-f07cb7861050",
   "metadata": {},
   "source": [
    "\n",
    "## **7. Replacing NaN Values with 0 in MarkDown Columns**\n",
    "\n"
   ]
  },
  {
   "cell_type": "markdown",
   "id": "bcb1e927-1490-4add-9a63-2ba3671c1f8e",
   "metadata": {},
   "source": [
    "---\n",
    " **Description**  \n",
    "To handle missing values (`NaN`) in the `MarkDown1-5` columns, we replace them with `0`. This ensures consistency in the dataset and avoids issues during numerical operations.\n",
    "\n",
    "---"
   ]
  },
  {
   "cell_type": "code",
   "execution_count": 56,
   "id": "3632fb46-740c-48c6-bc74-30323ecfa4bf",
   "metadata": {},
   "outputs": [
    {
     "name": "stdout",
     "output_type": "stream",
     "text": [
      "Verifying that NaN values have been replaced with 0:\n",
      "MarkDown1    0\n",
      "MarkDown2    0\n",
      "MarkDown3    0\n",
      "MarkDown4    0\n",
      "MarkDown5    0\n",
      "dtype: int64\n",
      "\n",
      "All NaN values successfully replaced (True means successful):\n",
      "True\n"
     ]
    }
   ],
   "source": [
    "# List of MarkDown columns to analyze\n",
    "markdown_cols = ['MarkDown1', 'MarkDown2', 'MarkDown3', 'MarkDown4', 'MarkDown5']\n",
    "\n",
    "# Replace NaN values with 0 in MarkDown columns\n",
    "features_df[markdown_cols] = features_df[markdown_cols].fillna(0)\n",
    "\n",
    "# Verify the change: Check if there are no NaN values remaining\n",
    "print(\"Verifying that NaN values have been replaced with 0:\")\n",
    "print(features_df[markdown_cols].isnull().sum())  # Should return 0 for all columns\n",
    "\n",
    "# Confirm no NaN values remain: Final verification step\n",
    "print(\"\\nAll NaN values successfully replaced (True means successful):\")\n",
    "print(features_df[markdown_cols].isnull().sum().sum() == 0)  # True if no NaN values\n"
   ]
  },
  {
   "cell_type": "markdown",
   "id": "7beae323-6d25-4663-84f3-f1480e3bd15a",
   "metadata": {},
   "source": [
    "---\n",
    " \n",
    " **Key Insights**  \n",
    "- Missing values in `MarkDown1-5` have been successfully replaced with `0`.  \n",
    "- Verification confirms that no `NaN` values remain in these columns.  \n",
    "- These columns are now clean and ready for further analysis.\n",
    "\n",
    "---\n"
   ]
  },
  {
   "cell_type": "markdown",
   "id": "30f5e310-a01c-458b-af84-ddefaf401169",
   "metadata": {},
   "source": [
    "\n",
    "## **8. Cleaning 'Fuel_Price' and 'Temperature' Columns**\n"
   ]
  },
  {
   "cell_type": "markdown",
   "id": "798512bc-6331-4bb9-b9c8-3afe8f8b298a",
   "metadata": {},
   "source": [
    "### 8.1 Fuel_Price"
   ]
  },
  {
   "cell_type": "markdown",
   "id": "22082391-495a-48e3-a420-7722cee2c8a8",
   "metadata": {},
   "source": [
    "---\n",
    " **Description**  \n",
    "To ensure data integrity in the `Fuel_Price` and `Temperature` columns, we first analyze their statistics and distributions. This step helps identify potential outliers, inconsistencies, or invalid values.\n",
    "\n",
    "---"
   ]
  },
  {
   "cell_type": "code",
   "execution_count": 62,
   "id": "4198ebfd-9cd0-4425-b63a-f5a14fda4684",
   "metadata": {},
   "outputs": [
    {
     "name": "stdout",
     "output_type": "stream",
     "text": [
      "Descriptive statistics for 'Fuel_Price':\n",
      "count    8190.000000\n",
      "mean        3.405992\n",
      "std         0.431337\n",
      "min         2.472000\n",
      "25%         3.041000\n",
      "50%         3.513000\n",
      "75%         3.743000\n",
      "max         4.468000\n",
      "Name: Fuel_Price, dtype: float64\n"
     ]
    },
    {
     "data": {
      "image/png": "[encoded data removed]",
      "text/plain": [
       "<Figure size 800x500 with 1 Axes>"
      ]
     },
     "metadata": {},
     "output_type": "display_data"
    }
   ],
   "source": [
    "# Step 1: Display descriptive statistics for 'Fuel_Price' to identify data range and potential outliers\n",
    "print(\"Descriptive statistics for 'Fuel_Price':\")\n",
    "print(features_df['Fuel_Price'].describe())\n",
    "\n",
    "# Step 2: Visualize the distribution of 'Fuel_Price' to highlight outliers\n",
    "import matplotlib.pyplot as plt\n",
    "\n",
    "plt.figure(figsize=(8, 5))\n",
    "plt.boxplot(features_df['Fuel_Price'])\n",
    "plt.title('Boxplot of Fuel_Price')\n",
    "plt.ylabel('Fuel_Price')\n",
    "plt.show()\n"
   ]
  },
  {
   "cell_type": "markdown",
   "id": "6a97a7d0-f4a5-4972-9f5f-ade5468b6190",
   "metadata": {},
   "source": [
    "---\n",
    "  **Key Insights**  \n",
    "- **Descriptive statistics** for `Fuel_Price` provide a summary of the column:  \n",
    "  - Minimum value: **2.47**  \n",
    "  - Maximum value: **4.46**  \n",
    "  - Mean: **3.41**  \n",
    "  - Standard deviation: **0.43**  \n",
    "\n",
    "- The **boxplot** reveals potential outliers that need further analysis. These outliers may influence the analysis and should be handled appropriately (e.g., removal, capping, or transformation).  \n",
    "---"
   ]
  },
  {
   "cell_type": "markdown",
   "id": "bcbc8e80-4c34-4ecd-83c4-5cc764c251e4",
   "metadata": {},
   "source": [
    "## 8.2 Temperature\n",
    "\n",
    "---"
   ]
  },
  {
   "cell_type": "code",
   "execution_count": 66,
   "id": "4a795035-f20a-4a7a-b933-bb032bd2c8ed",
   "metadata": {},
   "outputs": [
    {
     "name": "stdout",
     "output_type": "stream",
     "text": [
      "Descriptive statistics for 'Temperature':\n",
      "count    8190.000000\n",
      "mean       59.356198\n",
      "std        18.678607\n",
      "min        -7.290000\n",
      "25%        45.902500\n",
      "50%        60.710000\n",
      "75%        73.880000\n",
      "max       101.950000\n",
      "Name: Temperature, dtype: float64\n"
     ]
    },
    {
     "data": {
      "image/png": "[encoded data removed]",
      "text/plain": [
       "<Figure size 500x500 with 1 Axes>"
      ]
     },
     "metadata": {},
     "output_type": "display_data"
    }
   ],
   "source": [
    "# Step 1: Display descriptive statistics for 'Temperature' to identify data range and potential outliers\n",
    "print(\"Descriptive statistics for 'Temperature':\")\n",
    "print(features_df['Temperature'].describe())\n",
    "\n",
    "# Step 2: Visualize the distribution of 'Temperature' to highlight outliers\n",
    "import matplotlib.pyplot as plt\n",
    "\n",
    "plt.figure(figsize=(5, 5))\n",
    "plt.boxplot(features_df['Temperature'])\n",
    "plt.title(\"Boxplot of Temperature\")\n",
    "plt.ylabel(\"Temperature (°F)\")\n",
    "plt.show()\n"
   ]
  },
  {
   "cell_type": "markdown",
   "id": "8ff9887a-fd07-4fb1-9456-b8e5a6a8f71a",
   "metadata": {},
   "source": [
    "---\n",
    "  **Description**\n",
    "The `Temperature` column contains outliers identified using a boxplot and the Interquartile Range (IQR) calculation. These outliers fall outside the expected range and can negatively impact further analysis if not handled appropriately.\n",
    "\n",
    "---"
   ]
  },
  {
   "cell_type": "code",
   "execution_count": 146,
   "id": "447433cd-af04-4fc4-9e41-a02661ae33f8",
   "metadata": {},
   "outputs": [
    {
     "name": "stdout",
     "output_type": "stream",
     "text": [
      "Lower Bound: 3.841249999999981, Upper Bound: 115.71125000000002\n",
      "count    7624.000000\n",
      "mean       59.271615\n",
      "std        18.500360\n",
      "min         4.000000\n",
      "25%        45.792500\n",
      "50%        60.785000\n",
      "75%        73.760000\n",
      "max       101.950000\n",
      "Name: Temperature, dtype: float64\n"
     ]
    },
    {
     "data": {
      "image/png": "[encoded data removed]",
      "text/plain": [
       "<Figure size 640x480 with 1 Axes>"
      ]
     },
     "metadata": {},
     "output_type": "display_data"
    }
   ],
   "source": [
    "# Calculate the lower and upper bounds of the interquartile range (IQR).\n",
    "q1 = features_df['Temperature'].quantile(0.25)\n",
    "q3 = features_df['Temperature'].quantile(0.75)\n",
    "iqr = q3 - q1\n",
    "lower_bound = q1 - 1.5 * iqr\n",
    "upper_bound = q3 + 1.5 * iqr\n",
    "\n",
    "print(f\"Lower Bound: {lower_bound}, Upper Bound: {upper_bound}\")\n",
    "\n",
    "# Filter rows outside the expected range.\n",
    "features_df = features_df[(features_df['Temperature'] >= lower_bound) & (features_df['Temperature'] <= upper_bound)]\n",
    "\n",
    "# Verify that the outliers have been removed.\n",
    "print(features_df['Temperature'].describe())\n",
    "\n",
    "# Visualize the boxplot after cleaning.\n",
    "plt.boxplot(features_df['Temperature'])\n",
    "plt.title(\"Boxplot of Temperature After Removing Outliers\")\n",
    "plt.ylabel(\"Temperature (°F)\")\n",
    "plt.show()\n"
   ]
  },
  {
   "cell_type": "markdown",
   "id": "e4cabc93-9dd4-4a80-ad65-2aa16cdee56f",
   "metadata": {},
   "source": [
    "---\n",
    "   **Key Insights**\n",
    "- **Detected and Removed Outliers**:\n",
    "  - Lower bound: **3.93°F**\n",
    "  - Upper bound: **115.85°F**\n",
    "  - Values outside this range were removed to ensure data quality.\n",
    "- **Post-Cleaning Results**:\n",
    "  - **Mean**: 59.40°F\n",
    "  - **Maximum**: 101.95°F\n",
    "  - **Minimum**: 3.93°F\n",
    "- **Visualization**: The boxplot after cleaning confirms the absence of outliers, showing a more consistent data distribution."
   ]
  },
  {
   "cell_type": "markdown",
   "id": "fed82494-3376-4481-ad15-8f5ed22f9dc5",
   "metadata": {},
   "source": [
    "---\n",
    "##  **9. Cleaning  of the 'Store' Column**\n",
    "---"
   ]
  },
  {
   "cell_type": "markdown",
   "id": "3188ab40-7fe8-4a53-8dbf-cff422e5187c",
   "metadata": {},
   "source": [
    "  **Description**\n",
    "The 'Store' column contains unique identifiers for stores and is critical for distinguishing data points. This step ensures that the identifiers are accurate and consistent across the dataset by checking for duplicates, the range of values, and general statistics.\n",
    "\n",
    "---\n"
   ]
  },
  {
   "cell_type": "code",
   "execution_count": 74,
   "id": "c205fb41-df69-4c67-a673-fcacf47b9b8f",
   "metadata": {},
   "outputs": [
    {
     "name": "stdout",
     "output_type": "stream",
     "text": [
      "45\n",
      "8138\n",
      "count    8183.000000\n",
      "mean       23.011243\n",
      "std        12.987156\n",
      "min         1.000000\n",
      "25%        12.000000\n",
      "50%        23.000000\n",
      "75%        34.000000\n",
      "max        45.000000\n",
      "Name: Store, dtype: float64\n",
      "0\n",
      "count    8183.000000\n",
      "mean      173.187858\n",
      "std        38.389357\n",
      "min       126.064000\n",
      "25%       132.653774\n",
      "50%       182.716838\n",
      "75%       212.815188\n",
      "max       228.976456\n",
      "Name: CPI, dtype: float64\n"
     ]
    },
    {
     "data": {
      "image/png": "[encoded data removed]",
      "text/plain": [
       "<Figure size 640x480 with 1 Axes>"
      ]
     },
     "metadata": {},
     "output_type": "display_data"
    }
   ],
   "source": [
    "# Count how many unique store identifiers exist in the 'Store' column.\n",
    "print(features_df['Store'].nunique())\n",
    "\n",
    "# Count how many rows have duplicate values in the 'Store' column.\n",
    "print(features_df.duplicated(subset=['Store']).sum())\n",
    "\n",
    "# Generate a statistical summary of the 'Store' column to review the range of identifiers.\n",
    "print(features_df['Store'].describe())\n",
    "\n",
    "# Fill missing values in the 'CPI' column with the column's median to ensure consistency and avoid skewing the data.\n",
    "features_df['CPI'] = features_df['CPI'].fillna(features_df['CPI'].median())\n",
    "\n",
    "# Check for any remaining missing values in the 'CPI' column to confirm that all NaN values have been filled.\n",
    "print(features_df['CPI'].isnull().sum())\n",
    "\n",
    "# Generate descriptive statistics for the 'CPI' column to analyze its distribution, central tendency, and variability.\n",
    "print(features_df['CPI'].describe())\n",
    "\n",
    "# Create a boxplot to visualize the distribution of the 'CPI' column and identify potential outliers.\n",
    "import matplotlib.pyplot as plt\n",
    "plt.boxplot(features_df['CPI'])\n",
    "plt.title('Boxplot of CPI')\n",
    "plt.show()"
   ]
  },
  {
   "cell_type": "markdown",
   "id": "02cc801f-740d-48c1-8ce9-74d9a6d6025e",
   "metadata": {},
   "source": [
    "---\n",
    "   **Key Insights**\r\n",
    "- **Store Analysis:**\r\n",
    "  - **Unique Identifiers:** 45 unique store IDs (1 to 45).  \r\n",
    "  - **Duplicate Rows:** 8138 rows with duplicate store IDs (expected due to multiple records per store).  \r\n",
    "\r\n",
    "- **CPI Column:**\r\n",
    "  - **Missing Values Filled:** NaN values in the 'CPI' column were replaced with the median.  \r\n",
    "  - **Post-Filling Check:** No remaining missing values (0 NaN).  \r\n",
    "  - **Statistical Summary:** Distribution of CPI values is consistent and within a reasonable range.  \r\n",
    "\r\n",
    "- **Visualization:**\r\n",
    "  - **Boxplot:** No significant outliers detected in the 'CPI' column, indicating data cons---istency.  \r\n"
   ]
  },
  {
   "cell_type": "markdown",
   "id": "02e612dc-1eec-4d7d-afdd-5b8e78bb6925",
   "metadata": {},
   "source": [
    "---\n",
    "##  **10. Cleaning  of the ' Unemployment' Column**\n",
    "\n",
    "---"
   ]
  },
  {
   "cell_type": "markdown",
   "id": "0fdbf88f-3bac-4136-9685-fdc7065245ea",
   "metadata": {},
   "source": [
    "\n",
    "  **Description**  \n",
    "The following code performs data cleaning and outlier detection for the 'Unemployment' column. The process involves identifying and handling missing values, visualizing the data, and applying interquartile range (IQR) techniques to detect and remove outliers. The goal is to ensure the data is accurate, consistent, and ready for analysis.  \n",
    "\n",
    "---"
   ]
  },
  {
   "cell_type": "code",
   "execution_count": 79,
   "id": "0c5697f5-33cc-4613-b507-942e6f87f264",
   "metadata": {},
   "outputs": [
    {
     "name": "stdout",
     "output_type": "stream",
     "text": [
      "Missing values in 'Unemployment':\n",
      "585\n",
      "\n",
      "Descriptive statistics for 'Unemployment':\n",
      "count    7598.000000\n",
      "mean        7.827682\n",
      "std         1.877575\n",
      "min         3.684000\n",
      "25%         6.634000\n",
      "50%         7.806000\n",
      "75%         8.567000\n",
      "max        14.313000\n",
      "Name: Unemployment, dtype: float64\n",
      "\n",
      "Valid values: 7598 (92.85%)\n",
      "NaN values: 585 (7.15%)\n",
      "\n",
      "NaN values after filling:\n",
      "0\n"
     ]
    },
    {
     "data": {
      "image/png": "[encoded data removed]",
      "text/plain": [
       "<Figure size 640x480 with 1 Axes>"
      ]
     },
     "metadata": {},
     "output_type": "display_data"
    },
    {
     "name": "stdout",
     "output_type": "stream",
     "text": [
      "\n",
      "Lower Bound: 4.300999999999999, Upper Bound: 11.053\n",
      "\n",
      "Detected Outliers:\n",
      "      Store       Date  Temperature  Fuel_Price  MarkDown1  MarkDown2  \\\n",
      "672       4 2012-07-06        80.37       3.187    9789.03      90.00   \n",
      "673       4 2012-07-13        76.86       3.224   11075.38     151.00   \n",
      "674       4 2012-07-20        79.14       3.263    4799.23      47.55   \n",
      "675       4 2012-07-27        81.06       3.356    7011.68      68.70   \n",
      "676       4 2012-08-03        83.86       3.374   29127.20      42.27   \n",
      "...     ...        ...          ...         ...        ...        ...   \n",
      "7262     40 2013-03-29        34.60       3.796    4709.35       0.00   \n",
      "7263     40 2013-04-05        35.59       3.772   14110.29    5571.32   \n",
      "7264     40 2013-04-12        39.15       3.723    4934.33    3183.26   \n",
      "7265     40 2013-04-19        45.17       3.678    2322.79       1.59   \n",
      "7266     40 2013-04-26        44.43       3.626    1565.70       0.00   \n",
      "\n",
      "      MarkDown3  MarkDown4  MarkDown5         CPI  Unemployment  IsHoliday  \n",
      "672      157.62   10671.47    3864.91  130.719633         4.077      False  \n",
      "673       17.27    3810.25    4766.88  130.683000         4.077      False  \n",
      "674       30.56     634.78    4648.91  130.701290         4.077      False  \n",
      "675        4.26   13565.83    3841.61  130.719581         4.077      False  \n",
      "676       58.34   22663.73   10925.99  130.737871         4.077      False  \n",
      "...         ...        ...        ...         ...           ...        ...  \n",
      "7262     432.01      12.00    3696.08  138.991194         3.932      False  \n",
      "7263     189.13     785.63    3892.09  139.056903         3.684      False  \n",
      "7264      16.53     351.45    2203.32  139.122613         3.684      False  \n",
      "7265      20.10     133.68    1429.80  139.122613         3.684      False  \n",
      "7266      42.99      44.44    1051.49  139.122613         3.684      False  \n",
      "\n",
      "[559 rows x 12 columns]\n",
      "\n",
      "Descriptive statistics after removing outliers:\n",
      "count    7624.000000\n",
      "mean        7.637358\n",
      "std         1.241948\n",
      "min         4.308000\n",
      "25%         6.855000\n",
      "50%         7.806000\n",
      "75%         8.433000\n",
      "max        10.926000\n",
      "Name: Unemployment, dtype: float64\n"
     ]
    },
    {
     "data": {
      "image/png": "[encoded data removed]",
      "text/plain": [
       "<Figure size 640x480 with 1 Axes>"
      ]
     },
     "metadata": {},
     "output_type": "display_data"
    }
   ],
   "source": [
    "# Step 1: Check for missing values\n",
    "# This checks for NaN values in the 'Unemployment' column to identify missing data.\n",
    "print(\"Missing values in 'Unemployment':\")\n",
    "print(features_df['Unemployment'].isnull().sum())\n",
    "\n",
    "# Step 2: Descriptive statistics\n",
    "# Generates summary statistics to understand the distribution and detect potential outliers.\n",
    "print(\"\\nDescriptive statistics for 'Unemployment':\")\n",
    "print(features_df['Unemployment'].describe())\n",
    "\n",
    "# Step 3: Calculate percentage of missing data\n",
    "# Calculates the percentage of missing and valid data to assess the extent of missing values.\n",
    "total_rows = len(features_df)\n",
    "nan_count = features_df['Unemployment'].isnull().sum()\n",
    "valid_count = total_rows - nan_count\n",
    "\n",
    "nan_percentage = (nan_count / total_rows) * 100\n",
    "valid_percentage = (valid_count / total_rows) * 100\n",
    "\n",
    "print(f\"\\nValid values: {valid_count} ({valid_percentage:.2f}%)\")\n",
    "print(f\"NaN values: {nan_count} ({nan_percentage:.2f}%)\")\n",
    "\n",
    "# Step 4: Replace missing values with the median\n",
    "# Replaces NaN values with the median to maintain data integrity and avoid skewing.\n",
    "median_unemployment = features_df['Unemployment'].median()\n",
    "features_df['Unemployment'] = features_df['Unemployment'].fillna(median_unemployment)\n",
    "\n",
    "# Verify NaN values are filled\n",
    "# Ensures there are no remaining missing values after the replacement.\n",
    "print(\"\\nNaN values after filling:\")\n",
    "print(features_df['Unemployment'].isnull().sum())\n",
    "\n",
    "# Step 5: Boxplot to visualize data distribution\n",
    "# Creates a boxplot to visualize the spread of 'Unemployment' and identify potential outliers.\n",
    "plt.boxplot(features_df['Unemployment'], vert=True, patch_artist=True)\n",
    "plt.title('Box Plot of Unemployment Rate')\n",
    "plt.ylabel('Unemployment Rate (%)')\n",
    "plt.show()\n",
    "\n",
    "# Step 6: Calculate Interquartile Range (IQR)\n",
    "# Computes IQR to define the range for detecting outliers.\n",
    "Q1 = features_df['Unemployment'].quantile(0.25)\n",
    "Q3 = features_df['Unemployment'].quantile(0.75)\n",
    "IQR = Q3 - Q1\n",
    "lower_bound = Q1 - 1.5 * IQR\n",
    "upper_bound = Q3 + 1.5 * IQR\n",
    "print(f\"\\nLower Bound: {lower_bound}, Upper Bound: {upper_bound}\")\n",
    "\n",
    "# Step 7: Filter and remove outliers\n",
    "# Identifies rows with values outside the IQR limits (outliers).\n",
    "outliers = features_df[(features_df['Unemployment'] < lower_bound) | (features_df['Unemployment'] > upper_bound)]\n",
    "print(\"\\nDetected Outliers:\")\n",
    "print(outliers)\n",
    "\n",
    "# Remove outliers\n",
    "# Filters data to retain only values within the acceptable range.\n",
    "features_df = features_df[(features_df['Unemployment'] >= lower_bound) & (features_df['Unemployment'] <= upper_bound)]\n",
    "\n",
    "# Verify outliers are removed\n",
    "# Confirms that outliers were successfully eliminated.\n",
    "print(\"\\nDescriptive statistics after removing outliers:\")\n",
    "print(features_df['Unemployment'].describe())\n",
    "\n",
    "# Step 8: Visualize cleaned data\n",
    "# Boxplot after outlier removal to verify the cleaned data distribution.\n",
    "plt.boxplot(features_df['Unemployment'])\n",
    "plt.title('Box Plot of Unemployment Rate (Cleaned)')\n",
    "plt.ylabel('Unemployment Rate (%)')\n",
    "plt.show()\n"
   ]
  },
  {
   "cell_type": "markdown",
   "id": "5280225f-772f-4645-af1b-6cfde80b4ebe",
   "metadata": {},
   "source": [
    "---\n",
    "  **Key Insights**  \n",
    "- **Missing Data**:  \n",
    "  - Missing values in 'Unemployment' were detected and accounted for.  \n",
    "  - NaN values were replaced using the median to avoid skewing the data.  \n",
    "\n",
    "- **Outlier Detection and Removal**:  \n",
    "  - Interquartile Range (IQR) was calculated to define lower and upper bounds for outliers.  \n",
    "  - Values below **4.30%** and above **11.05%** were considered outliers and removed from the dataset.  \n",
    "\n",
    "- **Post-Cleaning Analysis**:  \n",
    "  - After removing outliers, the distribution of the 'Unemployment' column was more consistent.  \n",
    "  - Visualization through boxplots confirmed the absence of extreme values, indicating improved data quality.  \n",
    "\n",
    "- **Conclusion**:  \n",
    "  - The 'Unemployment' column is now free of missing values and outliers, ensuring reliable data for further analysis.\n",
    "\n",
    "---\n"
   ]
  },
  {
   "cell_type": "markdown",
   "id": "0a031cfa-7022-4bb0-9dac-13dcc26f77b1",
   "metadata": {},
   "source": [
    "\n",
    "##  **10. Cleaning  of the ' Unemployment' Column**\n",
    "\n"
   ]
  },
  {
   "cell_type": "markdown",
   "id": "795a0150-b8e9-4119-ac1a-63ffd9cdaecc",
   "metadata": {},
   "source": [
    "---\n",
    " **Description**  \n",
    "The 'IsHoliday' column indicates whether a specific day is a holiday (True) or not (False). This analysis checks for unique values and their distribution, ensuring data consistency and correctness. The results confirm that the data is properly categorized with no missing or inconsistent values. \n",
    "\n",
    "---\n"
   ]
  },
  {
   "cell_type": "code",
   "execution_count": 139,
   "id": "6d9dfb25-729c-49cd-8ce4-fa0686feaeb7",
   "metadata": {},
   "outputs": [
    {
     "name": "stdout",
     "output_type": "stream",
     "text": [
      "[False  True]\n",
      "IsHoliday\n",
      "False    7081\n",
      "True      543\n",
      "Name: count, dtype: int64\n"
     ]
    }
   ],
   "source": [
    "## Check unique values in the 'IsHoliday' column.\n",
    "print(features_df['IsHoliday'].unique())\n",
    "\n",
    "## Count the occurrences of each unique value in the 'IsHoliday' column.\n",
    "print(features_df['IsHoliday'].value_counts())\n"
   ]
  },
  {
   "cell_type": "markdown",
   "id": "a7d61a6a-d466-4758-8ab5-5bd8a8317166",
   "metadata": {},
   "source": [
    "---\n",
    " **Key Insights**  \n",
    "- **Unique Values**:  \n",
    "  - The column contains two unique values: `False` and `True`.  \n",
    "- **Distribution of Values**:  \n",
    "  - `False`: 7010 records indicate non-holiday days.  \n",
    "  - `True`: 536 records indicate holiday days.  \n",
    "- **Proportion of Holiday Days**:  \n",
    "  - Non-holiday days significantly outnumber holiday days, reflecting a logical distribution since holidays occur less frequently.  \n",
    "- **Data Integrity**:  \n",
    "  - No null or inconsistent values were found in the 'IsHoliday' column, confirming the data is clean and reliable for further analysis.\n",
    "\n",
    "---"
   ]
  },
  {
   "cell_type": "markdown",
   "id": "43cdce9c-463d-4a87-923f-ef853ebff69f",
   "metadata": {},
   "source": [
    "## **11. General Data Review and Quality Check**"
   ]
  },
  {
   "cell_type": "markdown",
   "id": "07fca80d-7222-44a1-ae1e-4d227561dbb7",
   "metadata": {},
   "source": [
    "---\n",
    " **Description**\n",
    "This section performs a comprehensive initial review of the dataset to ensure data integrity and consistency. The analysis involves checking for missing values, understanding data types, and evaluating the uniqueness of categorical columns. Additionally, descriptive statistics are generated for numerical columns, and the dataset is scanned for duplicate rows.  \n",
    "This process helps identify potential issues early, ensuring that subsequent data analysis is based on clean and reliable data.\n",
    "\n",
    "---"
   ]
  },
  {
   "cell_type": "code",
   "execution_count": 144,
   "id": "577db5d9-b139-4f6e-9542-395db11b3030",
   "metadata": {},
   "outputs": [
    {
     "name": "stdout",
     "output_type": "stream",
     "text": [
      "Revisión de valores nulos:\n",
      "Store           0\n",
      "Date            0\n",
      "Temperature     0\n",
      "Fuel_Price      0\n",
      "MarkDown1       0\n",
      "MarkDown2       0\n",
      "MarkDown3       0\n",
      "MarkDown4       0\n",
      "MarkDown5       0\n",
      "CPI             0\n",
      "Unemployment    0\n",
      "IsHoliday       0\n",
      "dtype: int64\n",
      "\n",
      "Tipos de datos en el DataFrame:\n",
      "Store                    int64\n",
      "Date            datetime64[ns]\n",
      "Temperature            float64\n",
      "Fuel_Price             float64\n",
      "MarkDown1              float64\n",
      "MarkDown2              float64\n",
      "MarkDown3              float64\n",
      "MarkDown4              float64\n",
      "MarkDown5              float64\n",
      "CPI                    float64\n",
      "Unemployment           float64\n",
      "IsHoliday                 bool\n",
      "dtype: object\n",
      "\n",
      "Valores únicos en la columna 'Store':\n",
      "45\n",
      "\n",
      "Valores únicos en la columna 'IsHoliday':\n",
      "[False  True]\n",
      "\n",
      "Estadísticas descriptivas:\n",
      "             Store                           Date  Temperature   Fuel_Price  \\\n",
      "count  7624.000000                           7624  7624.000000  7624.000000   \n",
      "mean     22.816632  2011-11-02 04:02:19.769150208    59.271615     3.392343   \n",
      "min       1.000000            2010-02-05 00:00:00     4.000000     2.472000   \n",
      "25%      11.000000            2010-12-17 00:00:00    45.792500     3.014000   \n",
      "50%      22.000000            2011-10-28 00:00:00    60.785000     3.501000   \n",
      "75%      34.000000            2012-09-21 00:00:00    73.760000     3.730000   \n",
      "max      45.000000            2013-07-26 00:00:00   101.950000     4.468000   \n",
      "std      13.046711                            NaN    18.500360     0.431017   \n",
      "\n",
      "           MarkDown1      MarkDown2      MarkDown3     MarkDown4  \\\n",
      "count    7624.000000    7624.000000    7624.000000   7624.000000   \n",
      "mean     3408.669065    1170.595800     774.588657   1357.687067   \n",
      "min         0.000000       0.000000       0.000000      0.000000   \n",
      "25%         0.000000       0.000000       0.000000      0.000000   \n",
      "50%         0.000000       0.000000       0.000000      0.000000   \n",
      "75%      4571.940000      96.955000      23.855000    739.912500   \n",
      "max    103184.980000  104519.540000  149483.310000  67474.850000   \n",
      "std      7344.848111    5438.603464    7499.921532   4618.557331   \n",
      "\n",
      "           MarkDown5          CPI  Unemployment  \n",
      "count    7624.000000  7624.000000   7624.000000  \n",
      "mean     2031.022920   176.276404      7.637358  \n",
      "min         0.000000   126.064000      4.308000  \n",
      "25%         0.000000   133.849226      6.855000  \n",
      "50%         0.000000   182.716838      7.806000  \n",
      "75%      2642.412500   213.911781      8.433000  \n",
      "max    771448.100000   228.976456     10.926000  \n",
      "std      9726.831714    37.956506      1.241948  \n",
      "\n",
      "Revisión de filas duplicadas:\n",
      "0\n"
     ]
    }
   ],
   "source": [
    "# Check for null values in all columns.\n",
    "print(\"Revisión de valores nulos:\")\n",
    "print(features_df.isnull().sum())\n",
    "\n",
    "# Review the data types of each column.\n",
    "print(\"\\nTipos de datos en el DataFrame:\")\n",
    "print(features_df.dtypes)\n",
    "\n",
    "# Check unique values in categorical columns.\n",
    "print(\"\\nValores únicos en la columna 'Store':\")\n",
    "print(features_df['Store'].nunique())  \n",
    "\n",
    "# Review holiday categories.\n",
    "print(\"\\nValores únicos en la columna 'IsHoliday':\")\n",
    "print(features_df['IsHoliday'].unique())  \n",
    "\n",
    "# Generate descriptive statistics for numerical columns.\n",
    "print(\"\\nEstadísticas descriptivas:\")\n",
    "print(features_df.describe())\n",
    "\n",
    "# Check for duplicate rows.\n",
    "print(\"\\nRevisión de filas duplicadas:\")\n",
    "print(features_df.duplicated().sum()) "
   ]
  },
  {
   "cell_type": "code",
   "execution_count": 91,
   "id": "7a0685b7-af90-424b-b4ac-5da25c391573",
   "metadata": {},
   "outputs": [
    {
     "name": "stdout",
     "output_type": "stream",
     "text": [
      "MarkDown1     3\n",
      "MarkDown2    25\n",
      "MarkDown3    12\n",
      "MarkDown4     0\n",
      "MarkDown5     2\n",
      "dtype: int64\n"
     ]
    }
   ],
   "source": [
    "# Check for negative values in 'MarkDown' columns to ensure data consistency.\n",
    "markdown_negatives = features_df[['MarkDown1', 'MarkDown2', 'MarkDown3', 'MarkDown4', 'MarkDown5']] < 0\n",
    "print(markdown_negatives.sum())\n"
   ]
  },
  {
   "cell_type": "code",
   "execution_count": 93,
   "id": "c1942463-f29e-4395-803d-bfe19b1b1cda",
   "metadata": {},
   "outputs": [
    {
     "name": "stdout",
     "output_type": "stream",
     "text": [
      "MarkDown1    0\n",
      "MarkDown2    0\n",
      "MarkDown3    0\n",
      "MarkDown4    0\n",
      "MarkDown5    0\n",
      "dtype: int64\n"
     ]
    }
   ],
   "source": [
    "# Replace negative values with 0 in the MarkDown1-5 columns.\n",
    "features_df[['MarkDown1', 'MarkDown2', 'MarkDown3', 'MarkDown4', 'MarkDown5']] = \\\n",
    "features_df[['MarkDown1', 'MarkDown2', 'MarkDown3', 'MarkDown4', 'MarkDown5']].clip(lower=0)\n",
    "\n",
    "\n",
    "# Verify if negative values have been replaced.\n",
    "print((features_df[['MarkDown1', 'MarkDown2', 'MarkDown3', 'MarkDown4', 'MarkDown5']] < 0).sum())\n"
   ]
  },
  {
   "cell_type": "markdown",
   "id": "bbcd760f-e468-4a75-a7c6-6936472c92ce",
   "metadata": {},
   "source": [
    "---\n",
    " **Key Insights**\n",
    "\n",
    "- **Negative Value Detection:**\n",
    "  - Identified negative values in the 'MarkDown' columns.\n",
    "  - Total negative values found:\n",
    "    - **MarkDown1:** 3\n",
    "    - **MarkDown2:** 24\n",
    "    - **MarkDown3:** 12\n",
    "    - **MarkDown4:** 0\n",
    "    - **MarkDown5:** 2\n",
    "\n",
    "- **Data Cleaning:**\n",
    "  - All negative values in 'MarkDown1-5' were replaced with 0 to maintain data consistency and avoid skewing analysis.\n",
    "\n",
    "- **Verification:**\n",
    "  - Post-cleaning check confirmed no remaining negative values in any of the 'MarkDown' columns.\n",
    "\n",
    "- **Conclusion:**\n",
    "  - The 'MarkDown' columns are now free of negative values, ensuring the data is clean and ready for further analysis.\n",
    "---"
   ]
  },
  {
   "cell_type": "markdown",
   "id": "0f48cf1f-56b7-4c81-96b8-d9863321c325",
   "metadata": {},
   "source": [
    "# **Final Data Quality Check**  \n",
    "---"
   ]
  },
  {
   "cell_type": "markdown",
   "id": "dbf7c88c-aa16-4466-86b7-fcef76788318",
   "metadata": {},
   "source": [
    " **Description**  \n",
    "This section performs a final review of the dataset to confirm that all erroneous data, including missing values, duplicates, and negative values, have been successfully handled. A heatmap visualization is used to verify the absence of null values, ensuring the dataset is clean, consistent, and ready for further analysis.  \n",
    "\n",
    "The goal is to guarantee data integrity, allowing for accurate and reliable insights in subsequent steps.  \n",
    "\n",
    "---\n"
   ]
  },
  {
   "cell_type": "code",
   "execution_count": 148,
   "id": "0463369c-aacc-4e3c-b469-d3609f1a2b24",
   "metadata": {},
   "outputs": [
    {
     "name": "stdout",
     "output_type": "stream",
     "text": [
      "Revisión de valores nulos:\n",
      "Store           0\n",
      "Date            0\n",
      "Temperature     0\n",
      "Fuel_Price      0\n",
      "MarkDown1       0\n",
      "MarkDown2       0\n",
      "MarkDown3       0\n",
      "MarkDown4       0\n",
      "MarkDown5       0\n",
      "CPI             0\n",
      "Unemployment    0\n",
      "IsHoliday       0\n",
      "dtype: int64\n",
      "\n",
      "Revisión de filas duplicadas:\n",
      "0\n",
      "\n",
      "Tipos de datos en el DataFrame:\n",
      "Store                    int64\n",
      "Date            datetime64[ns]\n",
      "Temperature            float64\n",
      "Fuel_Price             float64\n",
      "MarkDown1              float64\n",
      "MarkDown2              float64\n",
      "MarkDown3              float64\n",
      "MarkDown4              float64\n",
      "MarkDown5              float64\n",
      "CPI                    float64\n",
      "Unemployment           float64\n",
      "IsHoliday                 bool\n",
      "dtype: object\n",
      "\n",
      "Estadísticas descriptivas:\n",
      "             Store                           Date  Temperature   Fuel_Price  \\\n",
      "count  7624.000000                           7624  7624.000000  7624.000000   \n",
      "mean     22.816632  2011-11-02 04:02:19.769150208    59.271615     3.392343   \n",
      "min       1.000000            2010-02-05 00:00:00     4.000000     2.472000   \n",
      "25%      11.000000            2010-12-17 00:00:00    45.792500     3.014000   \n",
      "50%      22.000000            2011-10-28 00:00:00    60.785000     3.501000   \n",
      "75%      34.000000            2012-09-21 00:00:00    73.760000     3.730000   \n",
      "max      45.000000            2013-07-26 00:00:00   101.950000     4.468000   \n",
      "std      13.046711                            NaN    18.500360     0.431017   \n",
      "\n",
      "           MarkDown1      MarkDown2      MarkDown3     MarkDown4  \\\n",
      "count    7624.000000    7624.000000    7624.000000   7624.000000   \n",
      "mean     3408.669065    1170.595800     774.588657   1357.687067   \n",
      "min         0.000000       0.000000       0.000000      0.000000   \n",
      "25%         0.000000       0.000000       0.000000      0.000000   \n",
      "50%         0.000000       0.000000       0.000000      0.000000   \n",
      "75%      4571.940000      96.955000      23.855000    739.912500   \n",
      "max    103184.980000  104519.540000  149483.310000  67474.850000   \n",
      "std      7344.848111    5438.603464    7499.921532   4618.557331   \n",
      "\n",
      "           MarkDown5          CPI  Unemployment  \n",
      "count    7624.000000  7624.000000   7624.000000  \n",
      "mean     2031.022920   176.276404      7.637358  \n",
      "min         0.000000   126.064000      4.308000  \n",
      "25%         0.000000   133.849226      6.855000  \n",
      "50%         0.000000   182.716838      7.806000  \n",
      "75%      2642.412500   213.911781      8.433000  \n",
      "max    771448.100000   228.976456     10.926000  \n",
      "std      9726.831714    37.956506      1.241948  \n",
      "\n",
      "Información general del DataFrame:\n",
      "<class 'pandas.core.frame.DataFrame'>\n",
      "Index: 7624 entries, 0 to 8189\n",
      "Data columns (total 12 columns):\n",
      " #   Column        Non-Null Count  Dtype         \n",
      "---  ------        --------------  -----         \n",
      " 0   Store         7624 non-null   int64         \n",
      " 1   Date          7624 non-null   datetime64[ns]\n",
      " 2   Temperature   7624 non-null   float64       \n",
      " 3   Fuel_Price    7624 non-null   float64       \n",
      " 4   MarkDown1     7624 non-null   float64       \n",
      " 5   MarkDown2     7624 non-null   float64       \n",
      " 6   MarkDown3     7624 non-null   float64       \n",
      " 7   MarkDown4     7624 non-null   float64       \n",
      " 8   MarkDown5     7624 non-null   float64       \n",
      " 9   CPI           7624 non-null   float64       \n",
      " 10  Unemployment  7624 non-null   float64       \n",
      " 11  IsHoliday     7624 non-null   bool          \n",
      "dtypes: bool(1), datetime64[ns](1), float64(9), int64(1)\n",
      "memory usage: 722.2 KB\n"
     ]
    },
    {
     "data": {
      "image/png": "[encoded data removed]",
      "text/plain": [
       "<Figure size 1000x600 with 1 Axes>"
      ]
     },
     "metadata": {},
     "output_type": "display_data"
    }
   ],
   "source": [
    "# Check for null values in all columns.\n",
    "print(\"Revisión de valores nulos:\")\n",
    "print(features_df.isnull().sum())\n",
    "\n",
    "# Review duplicates in the DataFrame.\n",
    "print(\"\\nRevisión de filas duplicadas:\")\n",
    "print(features_df.duplicated().sum())\n",
    "\n",
    "# Review the data types of each column.\n",
    "print(\"\\nTipos de datos en el DataFrame:\")\n",
    "print(features_df.dtypes)\n",
    "\n",
    "# Generate descriptive statistics for the numerical columns.\n",
    "print(\"\\nEstadísticas descriptivas:\")\n",
    "print(features_df.describe())\n",
    "\n",
    "# Visualize general information about the DataFrame.\n",
    "print(\"\\nInformación general del DataFrame:\")\n",
    "features_df.info()\n",
    "\n",
    "import seaborn as sns\n",
    "import matplotlib.pyplot as plt\n",
    "\n",
    "# Generate a heatmap to visualize potential null value issues.\n",
    "plt.figure(figsize=(10, 6))\n",
    "sns.heatmap(features_df.isnull(), cbar=False, cmap='viridis')\n",
    "plt.title(\"Mapa de calor de valores nulos\")\n",
    "plt.show()\n",
    "\n"
   ]
  },
  {
   "cell_type": "markdown",
   "id": "919b8250-8a60-442b-ac19-5e4993f6a598",
   "metadata": {},
   "source": [
    "---\n",
    "## Final Conclusions  \n",
    "\n",
    "- **Data Integrity Achieved:** All missing values, duplicates, and negative values have been addressed, ensuring a clean dataset.  \n",
    "- **Consistency Across Columns:** The categorical columns have been reviewed for unique values, and numerical columns have been analyzed to ensure proper distribution without outliers.  \n",
    "- **Visualization Confirmation:** The heatmap confirms that no null values remain in the dataset.  \n",
    "- **Ready for Analysis:** The dataset is now fully prepared for exploratory data analysis (EDA), modeling, and visualization tasks.  \n",
    "\n",
    "This process guarantees that the insights derived from the data will be accurate and trustworthy, enhancing the reliability of any further analysis.  \n",
    "\n",
    "---"
   ]
  },
  {
   "cell_type": "code",
   "execution_count": null,
   "id": "e73afe4b-9b46-40ff-90fb-2141443ab0e5",
   "metadata": {},
   "outputs": [],
   "source": []
  },
  {
   "cell_type": "code",
   "execution_count": null,
   "id": "3603a486-4946-40b2-a7b7-98d625938e04",
   "metadata": {},
   "outputs": [],
   "source": [
    "\n"
   ]
  },
  {
   "cell_type": "code",
   "execution_count": null,
   "id": "9e4a47a7-1dc1-469b-8fdb-0bd64ab7ccaf",
   "metadata": {},
   "outputs": [],
   "source": []
  },
  {
   "cell_type": "code",
   "execution_count": null,
   "id": "37a59598-0528-4371-b80d-c89ff69b1c46",
   "metadata": {},
   "outputs": [],
   "source": []
  },
  {
   "cell_type": "code",
   "execution_count": null,
   "id": "dd48775b-3ba3-4b68-b532-09b2cf007f88",
   "metadata": {},
   "outputs": [],
   "source": []
  },
  {
   "cell_type": "code",
   "execution_count": null,
   "id": "22f197a9-2d5d-479e-a779-1c97e33281a6",
   "metadata": {},
   "outputs": [],
   "source": []
  }
 ],
 "metadata": {
  "kernelspec": {
   "display_name": "Python 3 (ipykernel)",
   "language": "python",
   "name": "python3"
  },
  "language_info": {
   "codemirror_mode": {
    "name": "ipython",
    "version": 3
   },
   "file_extension": ".py",
   "mimetype": "text/x-python",
   "name": "python",
   "nbconvert_exporter": "python",
   "pygments_lexer": "ipython3",
   "version": "3.12.4"
  }
 },
 "nbformat": 4,
 "nbformat_minor": 5
}
